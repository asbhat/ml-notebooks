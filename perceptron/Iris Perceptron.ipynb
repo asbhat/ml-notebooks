{
 "cells": [
  {
   "cell_type": "code",
   "execution_count": 1,
   "metadata": {
    "collapsed": false
   },
   "outputs": [],
   "source": [
    "import numpy as np\n",
    "import pandas as pd\n",
    "import matplotlib.pyplot as plt\n",
    "%matplotlib inline"
   ]
  },
  {
   "cell_type": "code",
   "execution_count": 2,
   "metadata": {
    "collapsed": false
   },
   "outputs": [
    {
     "data": {
      "text/html": [
       "<div>\n",
       "<table border=\"1\" class=\"dataframe\">\n",
       "  <thead>\n",
       "    <tr style=\"text-align: right;\">\n",
       "      <th></th>\n",
       "      <th>sepal length in cm</th>\n",
       "      <th>sepal width in cm</th>\n",
       "      <th>petal length in cm</th>\n",
       "      <th>petal width in cm</th>\n",
       "      <th>class</th>\n",
       "    </tr>\n",
       "  </thead>\n",
       "  <tbody>\n",
       "    <tr>\n",
       "      <th>145</th>\n",
       "      <td>6.7</td>\n",
       "      <td>3.0</td>\n",
       "      <td>5.2</td>\n",
       "      <td>2.3</td>\n",
       "      <td>Iris-virginica</td>\n",
       "    </tr>\n",
       "    <tr>\n",
       "      <th>146</th>\n",
       "      <td>6.3</td>\n",
       "      <td>2.5</td>\n",
       "      <td>5.0</td>\n",
       "      <td>1.9</td>\n",
       "      <td>Iris-virginica</td>\n",
       "    </tr>\n",
       "    <tr>\n",
       "      <th>147</th>\n",
       "      <td>6.5</td>\n",
       "      <td>3.0</td>\n",
       "      <td>5.2</td>\n",
       "      <td>2.0</td>\n",
       "      <td>Iris-virginica</td>\n",
       "    </tr>\n",
       "    <tr>\n",
       "      <th>148</th>\n",
       "      <td>6.2</td>\n",
       "      <td>3.4</td>\n",
       "      <td>5.4</td>\n",
       "      <td>2.3</td>\n",
       "      <td>Iris-virginica</td>\n",
       "    </tr>\n",
       "    <tr>\n",
       "      <th>149</th>\n",
       "      <td>5.9</td>\n",
       "      <td>3.0</td>\n",
       "      <td>5.1</td>\n",
       "      <td>1.8</td>\n",
       "      <td>Iris-virginica</td>\n",
       "    </tr>\n",
       "  </tbody>\n",
       "</table>\n",
       "</div>"
      ],
      "text/plain": [
       "     sepal length in cm  sepal width in cm  petal length in cm  \\\n",
       "145                 6.7                3.0                 5.2   \n",
       "146                 6.3                2.5                 5.0   \n",
       "147                 6.5                3.0                 5.2   \n",
       "148                 6.2                3.4                 5.4   \n",
       "149                 5.9                3.0                 5.1   \n",
       "\n",
       "     petal width in cm           class  \n",
       "145                2.3  Iris-virginica  \n",
       "146                1.9  Iris-virginica  \n",
       "147                2.0  Iris-virginica  \n",
       "148                2.3  Iris-virginica  \n",
       "149                1.8  Iris-virginica  "
      ]
     },
     "execution_count": 2,
     "metadata": {},
     "output_type": "execute_result"
    }
   ],
   "source": [
    "colNames = ['sepal length in cm', 'sepal width in cm', 'petal length in cm', 'petal width in cm', 'class']\n",
    "df = pd.read_csv('../data/iris/iris.data', header=None, names=colNames)\n",
    "df.tail()"
   ]
  },
  {
   "cell_type": "code",
   "execution_count": 3,
   "metadata": {
    "collapsed": false
   },
   "outputs": [
    {
     "data": {
      "text/plain": [
       "array(['Iris-setosa', 'Iris-setosa', 'Iris-setosa', 'Iris-setosa',\n",
       "       'Iris-setosa', 'Iris-setosa', 'Iris-setosa', 'Iris-setosa',\n",
       "       'Iris-setosa', 'Iris-setosa', 'Iris-setosa', 'Iris-setosa',\n",
       "       'Iris-setosa', 'Iris-setosa', 'Iris-setosa', 'Iris-setosa',\n",
       "       'Iris-setosa', 'Iris-setosa', 'Iris-setosa', 'Iris-setosa',\n",
       "       'Iris-setosa', 'Iris-setosa', 'Iris-setosa', 'Iris-setosa',\n",
       "       'Iris-setosa', 'Iris-setosa', 'Iris-setosa', 'Iris-setosa',\n",
       "       'Iris-setosa', 'Iris-setosa', 'Iris-setosa', 'Iris-setosa',\n",
       "       'Iris-setosa', 'Iris-setosa', 'Iris-setosa', 'Iris-setosa',\n",
       "       'Iris-setosa', 'Iris-setosa', 'Iris-setosa', 'Iris-setosa',\n",
       "       'Iris-setosa', 'Iris-setosa', 'Iris-setosa', 'Iris-setosa',\n",
       "       'Iris-setosa', 'Iris-setosa', 'Iris-setosa', 'Iris-setosa',\n",
       "       'Iris-setosa', 'Iris-setosa', 'Iris-versicolor', 'Iris-versicolor',\n",
       "       'Iris-versicolor', 'Iris-versicolor', 'Iris-versicolor',\n",
       "       'Iris-versicolor', 'Iris-versicolor', 'Iris-versicolor',\n",
       "       'Iris-versicolor', 'Iris-versicolor', 'Iris-versicolor',\n",
       "       'Iris-versicolor', 'Iris-versicolor', 'Iris-versicolor',\n",
       "       'Iris-versicolor', 'Iris-versicolor', 'Iris-versicolor',\n",
       "       'Iris-versicolor', 'Iris-versicolor', 'Iris-versicolor',\n",
       "       'Iris-versicolor', 'Iris-versicolor', 'Iris-versicolor',\n",
       "       'Iris-versicolor', 'Iris-versicolor', 'Iris-versicolor',\n",
       "       'Iris-versicolor', 'Iris-versicolor', 'Iris-versicolor',\n",
       "       'Iris-versicolor', 'Iris-versicolor', 'Iris-versicolor',\n",
       "       'Iris-versicolor', 'Iris-versicolor', 'Iris-versicolor',\n",
       "       'Iris-versicolor', 'Iris-versicolor', 'Iris-versicolor',\n",
       "       'Iris-versicolor', 'Iris-versicolor', 'Iris-versicolor',\n",
       "       'Iris-versicolor', 'Iris-versicolor', 'Iris-versicolor',\n",
       "       'Iris-versicolor', 'Iris-versicolor', 'Iris-versicolor',\n",
       "       'Iris-versicolor', 'Iris-versicolor', 'Iris-versicolor'], dtype=object)"
      ]
     },
     "execution_count": 3,
     "metadata": {},
     "output_type": "execute_result"
    }
   ],
   "source": [
    "y = df.iloc[:100,4].values  # Grab only the first 2 classifications (first 100 rows)\n",
    "y"
   ]
  },
  {
   "cell_type": "code",
   "execution_count": 4,
   "metadata": {
    "collapsed": false
   },
   "outputs": [
    {
     "data": {
      "text/plain": [
       "array([-1, -1, -1, -1, -1, -1, -1, -1, -1, -1, -1, -1, -1, -1, -1, -1, -1,\n",
       "       -1, -1, -1, -1, -1, -1, -1, -1, -1, -1, -1, -1, -1, -1, -1, -1, -1,\n",
       "       -1, -1, -1, -1, -1, -1, -1, -1, -1, -1, -1, -1, -1, -1, -1, -1,  1,\n",
       "        1,  1,  1,  1,  1,  1,  1,  1,  1,  1,  1,  1,  1,  1,  1,  1,  1,\n",
       "        1,  1,  1,  1,  1,  1,  1,  1,  1,  1,  1,  1,  1,  1,  1,  1,  1,\n",
       "        1,  1,  1,  1,  1,  1,  1,  1,  1,  1,  1,  1,  1,  1,  1])"
      ]
     },
     "execution_count": 4,
     "metadata": {},
     "output_type": "execute_result"
    }
   ],
   "source": [
    "y = np.where(y == 'Iris-setosa', -1, 1)\n",
    "y"
   ]
  },
  {
   "cell_type": "code",
   "execution_count": 5,
   "metadata": {
    "collapsed": false,
    "scrolled": true
   },
   "outputs": [
    {
     "data": {
      "text/plain": [
       "array([[ 5.1,  1.4],\n",
       "       [ 4.9,  1.4],\n",
       "       [ 4.7,  1.3],\n",
       "       [ 4.6,  1.5],\n",
       "       [ 5. ,  1.4],\n",
       "       [ 5.4,  1.7],\n",
       "       [ 4.6,  1.4],\n",
       "       [ 5. ,  1.5],\n",
       "       [ 4.4,  1.4],\n",
       "       [ 4.9,  1.5],\n",
       "       [ 5.4,  1.5],\n",
       "       [ 4.8,  1.6],\n",
       "       [ 4.8,  1.4],\n",
       "       [ 4.3,  1.1],\n",
       "       [ 5.8,  1.2],\n",
       "       [ 5.7,  1.5],\n",
       "       [ 5.4,  1.3],\n",
       "       [ 5.1,  1.4],\n",
       "       [ 5.7,  1.7],\n",
       "       [ 5.1,  1.5],\n",
       "       [ 5.4,  1.7],\n",
       "       [ 5.1,  1.5],\n",
       "       [ 4.6,  1. ],\n",
       "       [ 5.1,  1.7],\n",
       "       [ 4.8,  1.9],\n",
       "       [ 5. ,  1.6],\n",
       "       [ 5. ,  1.6],\n",
       "       [ 5.2,  1.5],\n",
       "       [ 5.2,  1.4],\n",
       "       [ 4.7,  1.6],\n",
       "       [ 4.8,  1.6],\n",
       "       [ 5.4,  1.5],\n",
       "       [ 5.2,  1.5],\n",
       "       [ 5.5,  1.4],\n",
       "       [ 4.9,  1.5],\n",
       "       [ 5. ,  1.2],\n",
       "       [ 5.5,  1.3],\n",
       "       [ 4.9,  1.5],\n",
       "       [ 4.4,  1.3],\n",
       "       [ 5.1,  1.5],\n",
       "       [ 5. ,  1.3],\n",
       "       [ 4.5,  1.3],\n",
       "       [ 4.4,  1.3],\n",
       "       [ 5. ,  1.6],\n",
       "       [ 5.1,  1.9],\n",
       "       [ 4.8,  1.4],\n",
       "       [ 5.1,  1.6],\n",
       "       [ 4.6,  1.4],\n",
       "       [ 5.3,  1.5],\n",
       "       [ 5. ,  1.4],\n",
       "       [ 7. ,  4.7],\n",
       "       [ 6.4,  4.5],\n",
       "       [ 6.9,  4.9],\n",
       "       [ 5.5,  4. ],\n",
       "       [ 6.5,  4.6],\n",
       "       [ 5.7,  4.5],\n",
       "       [ 6.3,  4.7],\n",
       "       [ 4.9,  3.3],\n",
       "       [ 6.6,  4.6],\n",
       "       [ 5.2,  3.9],\n",
       "       [ 5. ,  3.5],\n",
       "       [ 5.9,  4.2],\n",
       "       [ 6. ,  4. ],\n",
       "       [ 6.1,  4.7],\n",
       "       [ 5.6,  3.6],\n",
       "       [ 6.7,  4.4],\n",
       "       [ 5.6,  4.5],\n",
       "       [ 5.8,  4.1],\n",
       "       [ 6.2,  4.5],\n",
       "       [ 5.6,  3.9],\n",
       "       [ 5.9,  4.8],\n",
       "       [ 6.1,  4. ],\n",
       "       [ 6.3,  4.9],\n",
       "       [ 6.1,  4.7],\n",
       "       [ 6.4,  4.3],\n",
       "       [ 6.6,  4.4],\n",
       "       [ 6.8,  4.8],\n",
       "       [ 6.7,  5. ],\n",
       "       [ 6. ,  4.5],\n",
       "       [ 5.7,  3.5],\n",
       "       [ 5.5,  3.8],\n",
       "       [ 5.5,  3.7],\n",
       "       [ 5.8,  3.9],\n",
       "       [ 6. ,  5.1],\n",
       "       [ 5.4,  4.5],\n",
       "       [ 6. ,  4.5],\n",
       "       [ 6.7,  4.7],\n",
       "       [ 6.3,  4.4],\n",
       "       [ 5.6,  4.1],\n",
       "       [ 5.5,  4. ],\n",
       "       [ 5.5,  4.4],\n",
       "       [ 6.1,  4.6],\n",
       "       [ 5.8,  4. ],\n",
       "       [ 5. ,  3.3],\n",
       "       [ 5.6,  4.2],\n",
       "       [ 5.7,  4.2],\n",
       "       [ 5.7,  4.2],\n",
       "       [ 6.2,  4.3],\n",
       "       [ 5.1,  3. ],\n",
       "       [ 5.7,  4.1]])"
      ]
     },
     "execution_count": 5,
     "metadata": {},
     "output_type": "execute_result"
    }
   ],
   "source": [
    "X = df.iloc[:100,[0,2]].values  # Grab only the 1st and 3rd column\n",
    "X"
   ]
  },
  {
   "cell_type": "code",
   "execution_count": 6,
   "metadata": {
    "collapsed": false
   },
   "outputs": [
    {
     "data": {
      "image/png": "[encoded data removed]",
      "text/plain": [
       "<matplotlib.figure.Figure at 0x1058c6fd0>"
      ]
     },
     "metadata": {},
     "output_type": "display_data"
    }
   ],
   "source": [
    "plt.scatter(X[:50, 0], X[:50, 1], color='purple', marker='o', label='setosa')\n",
    "plt.scatter(X[50:, 0], X[50:, 1], color='blue', marker='x', label='versicolor')\n",
    "plt.xlabel('sepal length (cm)')\n",
    "plt.ylabel('petal length (cm)')\n",
    "plt.legend(loc='upper left')\n",
    "plt.show()"
   ]
  },
  {
   "cell_type": "code",
   "execution_count": null,
   "metadata": {
    "collapsed": true
   },
   "outputs": [],
   "source": []
  }
 ],
 "metadata": {
  "kernelspec": {
   "display_name": "Python 2",
   "language": "python",
   "name": "python2"
  },
  "language_info": {
   "codemirror_mode": {
    "name": "ipython",
    "version": 2
   },
   "file_extension": ".py",
   "mimetype": "text/x-python",
   "name": "python",
   "nbconvert_exporter": "python",
   "pygments_lexer": "ipython2",
   "version": "2.7.12"
  }
 },
 "nbformat": 4,
 "nbformat_minor": 1
}
